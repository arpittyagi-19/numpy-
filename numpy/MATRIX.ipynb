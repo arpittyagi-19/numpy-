{
 "cells": [
  {
   "cell_type": "code",
   "execution_count": 10,
   "id": "1a15b671-a5f4-4e9e-bfe1-fbec9835bd27",
   "metadata": {},
   "outputs": [
    {
     "name": "stdout",
     "output_type": "stream",
     "text": [
      "[[8 8]\n",
      " [8 8]]\n",
      "\n",
      "[[8 8]\n",
      " [8 8]]\n"
     ]
    }
   ],
   "source": [
    "import numpy as np\n",
    "var1 = np.matrix([[2,2],[2,2]])\n",
    "var2 = np.matrix([[2,2],[2,2]])\n",
    "print(var1.dot(var2))\n",
    "print()\n",
    "print(var1*var2)"
   ]
  },
  {
   "cell_type": "code",
   "execution_count": 18,
   "id": "b788ad35-e5c5-4eb3-8993-d5483b975800",
   "metadata": {},
   "outputs": [
    {
     "name": "stdout",
     "output_type": "stream",
     "text": [
      "[[1 2 3]\n",
      " [4 5 6]]\n",
      "\n",
      "[[1 4]\n",
      " [2 5]\n",
      " [3 6]]\n",
      "\n",
      "[[1 4]\n",
      " [2 5]\n",
      " [3 6]]\n",
      "\n",
      "[[1 4]\n",
      " [2 5]\n",
      " [3 6]]\n"
     ]
    }
   ],
   "source": [
    "var3 = np.matrix([[1,2,3],[4,5,6]])\n",
    "print(var3)\n",
    "print()\n",
    "print(np.transpose(var3))\n",
    "print()\n",
    "print(var3.T)\n",
    "print()\n",
    "print(np.swapaxes(var3,1,0))"
   ]
  },
  {
   "cell_type": "code",
   "execution_count": 19,
   "id": "5addff3a-257a-4dc5-aefb-909bfbfecf78",
   "metadata": {},
   "outputs": [
    {
     "name": "stdout",
     "output_type": "stream",
     "text": [
      "[[1 2]\n",
      " [3 4]]\n",
      "\n",
      "[[-2.   1. ]\n",
      " [ 1.5 -0.5]]\n"
     ]
    }
   ],
   "source": [
    "var4 = np.matrix([[1,2],[3,4]])\n",
    "print(var4)\n",
    "print()\n",
    "print(np.linalg.inv(var4))"
   ]
  },
  {
   "cell_type": "code",
   "execution_count": 25,
   "id": "341f5dd9-b898-4739-9f36-0cbd42d15a4c",
   "metadata": {},
   "outputs": [
    {
     "name": "stdout",
     "output_type": "stream",
     "text": [
      "[[ 39.625  -18.125 ]\n",
      " [-27.1875  12.4375]]\n"
     ]
    }
   ],
   "source": [
    "var5 = np.matrix([[1,2],[3,4]])\n",
    "print(np.linalg.matrix_power(var5,-4))"
   ]
  },
  {
   "cell_type": "code",
   "execution_count": 40,
   "id": "510dc329-2ec4-4955-835d-d606613eb7ba",
   "metadata": {},
   "outputs": [
    {
     "name": "stdout",
     "output_type": "stream",
     "text": [
      "[[[1 2]\n",
      "  [3 4]]\n",
      "\n",
      " [[5 6]\n",
      "  [7 8]]]\n",
      "3\n"
     ]
    }
   ],
   "source": [
    "var6 = np.array([[[1,2],\n",
    "                  [3,4]],\n",
    "                  [[5,6],\n",
    "                  [7,8]]])\n",
    "print(var6)\n",
    "print(np.ndim(var6))"
   ]
  },
  {
   "cell_type": "code",
   "execution_count": null,
   "id": "556609f9-4aa0-400c-a483-b715403b7148",
   "metadata": {},
   "outputs": [],
   "source": []
  }
 ],
 "metadata": {
  "kernelspec": {
   "display_name": "Python 3 (ipykernel)",
   "language": "python",
   "name": "python3"
  },
  "language_info": {
   "codemirror_mode": {
    "name": "ipython",
    "version": 3
   },
   "file_extension": ".py",
   "mimetype": "text/x-python",
   "name": "python",
   "nbconvert_exporter": "python",
   "pygments_lexer": "ipython3",
   "version": "3.12.1"
  }
 },
 "nbformat": 4,
 "nbformat_minor": 5
}
