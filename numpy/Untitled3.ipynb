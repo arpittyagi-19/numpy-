{
 "cells": [
  {
   "cell_type": "code",
   "execution_count": 1,
   "id": "192cdb2c-509d-40b1-a61b-a86fbd5005f5",
   "metadata": {},
   "outputs": [
    {
     "name": "stdout",
     "output_type": "stream",
     "text": [
      "[1 4 3 1]\n",
      "[8 6 7 7]\n",
      "[1 1 0 1]\n",
      "[0 0 0 0]\n"
     ]
    }
   ],
   "source": [
    "import numpy as np\n",
    "a = np.random.randint(1,5,4)\n",
    "b = np.random.randint(5,9,4)\n",
    "print(a)\n",
    "print(b)\n",
    "c = a%3\n",
    "var1 = np.reciprocal(b)\n",
    "print(c)\n",
    "print(var1)"
   ]
  },
  {
   "cell_type": "code",
   "execution_count": 2,
   "id": "ba314d6a-0fe3-4c31-b2d5-42522d193ef8",
   "metadata": {},
   "outputs": [
    {
     "name": "stdout",
     "output_type": "stream",
     "text": [
      "[[2 4 6 8]\n",
      " [2 4 6 8]]\n"
     ]
    }
   ],
   "source": [
    "\n",
    "var2 = np.array([[1,2,3,4],[1,2,3,4]])\n",
    "var3 = np.array([[1,2,3,4],[1,2,3,4]])\n",
    "var4 = var2 + var3\n",
    "print(var4)"
   ]
  },
  {
   "cell_type": "code",
   "execution_count": null,
   "id": "8994935d-b82f-41ab-a656-657deb4da4c5",
   "metadata": {},
   "outputs": [],
   "source": []
  },
  {
   "cell_type": "code",
   "execution_count": null,
   "id": "3151d1ab-a0aa-44e1-96e8-1cfb3d70cea5",
   "metadata": {},
   "outputs": [],
   "source": []
  }
 ],
 "metadata": {
  "kernelspec": {
   "display_name": "Python 3 (ipykernel)",
   "language": "python",
   "name": "python3"
  },
  "language_info": {
   "codemirror_mode": {
    "name": "ipython",
    "version": 3
   },
   "file_extension": ".py",
   "mimetype": "text/x-python",
   "name": "python",
   "nbconvert_exporter": "python",
   "pygments_lexer": "ipython3",
   "version": "3.11.7"
  }
 },
 "nbformat": 4,
 "nbformat_minor": 5
}
