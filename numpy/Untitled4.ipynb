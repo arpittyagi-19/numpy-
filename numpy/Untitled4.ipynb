{
 "cells": [
  {
   "cell_type": "code",
   "execution_count": 5,
   "id": "96f8a133-8101-435c-8076-dceb0b871610",
   "metadata": {},
   "outputs": [
    {
     "name": "stdout",
     "output_type": "stream",
     "text": [
      "0 3\n"
     ]
    }
   ],
   "source": [
    "import numpy as np\n",
    "var  = np.array([1,2,3,4])\n",
    "print(np.argmin(var), np.argmax(var))"
   ]
  },
  {
   "cell_type": "code",
   "execution_count": 21,
   "id": "ed059768-83e2-4c1d-8697-a230c977a431",
   "metadata": {},
   "outputs": [
    {
     "name": "stdout",
     "output_type": "stream",
     "text": [
      "[3 4 4 4]\n",
      "[4 2 1 1]\n",
      "[[3 4 4 4]\n",
      " [4 2 1 1]]\n",
      "[2.         1.41421356 1.         1.        ]\n",
      "3\n"
     ]
    }
   ],
   "source": [
    "var2 = np.random.randint(1,5,4)\n",
    "var3 = np.random.randint(1,5,4)\n",
    "var4 = np.array([var2,var3])\n",
    "print(var2)\n",
    "print(var3)\n",
    "print(var4)\n",
    "print(np.sqrt(var3))\n",
    "print(np.min(var2, axis=0))"
   ]
  },
  {
   "cell_type": "code",
   "execution_count": 28,
   "id": "772263bc-4a0f-4492-95c4-17555b7d4bbc",
   "metadata": {},
   "outputs": [
    {
     "name": "stdout",
     "output_type": "stream",
     "text": [
      "[ 0.          0.90929743  0.14112001 -0.95892427 -0.2794155   0.6569866\n",
      "  0.98935825  0.41211849 -0.2794155  -0.95892427 -0.83177474  0.98935825]\n",
      "[  0   2   5  10  16  23  31  40  46  51  94 102]\n"
     ]
    }
   ],
   "source": [
    "var5 = np.array([0,2,3,5,6,7,8,9,6,5,43,8])\n",
    "print(np.sin(var5))\n",
    "print(np.cumsum(var5))"
   ]
  },
  {
   "cell_type": "code",
   "execution_count": null,
   "id": "b1204a0c-fd96-4b70-8660-bf5cd8a5e0d9",
   "metadata": {},
   "outputs": [],
   "source": []
  }
 ],
 "metadata": {
  "kernelspec": {
   "display_name": "Python 3 (ipykernel)",
   "language": "python",
   "name": "python3"
  },
  "language_info": {
   "codemirror_mode": {
    "name": "ipython",
    "version": 3
   },
   "file_extension": ".py",
   "mimetype": "text/x-python",
   "name": "python",
   "nbconvert_exporter": "python",
   "pygments_lexer": "ipython3",
   "version": "3.12.1"
  }
 },
 "nbformat": 4,
 "nbformat_minor": 5
}
