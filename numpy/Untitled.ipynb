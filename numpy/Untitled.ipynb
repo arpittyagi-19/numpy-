{
 "cells": [
  {
   "cell_type": "code",
   "execution_count": 1,
   "id": "00d417fe-8a32-4e6f-8ed9-99aba2612e19",
   "metadata": {},
   "outputs": [
    {
     "name": "stdout",
     "output_type": "stream",
     "text": [
      "hello\n"
     ]
    }
   ],
   "source": [
    "print('hello')\n"
   ]
  },
  {
   "cell_type": "code",
   "execution_count": 4,
   "id": "9134d761-53b4-4641-a731-4e8d40b4c6df",
   "metadata": {
    "scrolled": true
   },
   "outputs": [
    {
     "name": "stdout",
     "output_type": "stream",
     "text": [
      "c=11\n"
     ]
    }
   ],
   "source": [
    "a = 5\n",
    "b = 6\n",
    "c = a+b\n",
    "print(f'c={c}')"
   ]
  },
  {
   "cell_type": "code",
   "execution_count": 5,
   "id": "08acc62f-657a-4c07-9097-15b3eab8468a",
   "metadata": {},
   "outputs": [
    {
     "name": "stdout",
     "output_type": "stream",
     "text": [
      "c=11\n"
     ]
    }
   ],
   "source": [
    "a = 5\n",
    "b = 6\n",
    "c = a+b\n",
    "print(f'c={c}')"
   ]
  },
  {
   "cell_type": "code",
   "execution_count": null,
   "id": "4196e55b-2a2d-420b-aec9-f9874579d158",
   "metadata": {},
   "outputs": [],
   "source": []
  }
 ],
 "metadata": {
  "kernelspec": {
   "display_name": "Python 3 (ipykernel)",
   "language": "python",
   "name": "python3"
  },
  "language_info": {
   "codemirror_mode": {
    "name": "ipython",
    "version": 3
   },
   "file_extension": ".py",
   "mimetype": "text/x-python",
   "name": "python",
   "nbconvert_exporter": "python",
   "pygments_lexer": "ipython3",
   "version": "3.12.1"
  }
 },
 "nbformat": 4,
 "nbformat_minor": 5
}
