{
 "cells": [
  {
   "cell_type": "code",
   "execution_count": 1,
   "id": "6cc5ab4a-d0f9-4449-8eda-8b9ed85aadcc",
   "metadata": {},
   "outputs": [],
   "source": [
    "import numpy as np"
   ]
  },
  {
   "cell_type": "code",
   "execution_count": 3,
   "id": "8de67a83-fb60-4703-9b49-882af0364b1c",
   "metadata": {},
   "outputs": [],
   "source": [
    "w = np.array([1,2,3,4,5])\n",
    "x = np.array([1,2,3,4,5])\n",
    "f = np.dot(w,x)"
   ]
  },
  {
   "cell_type": "code",
   "execution_count": 4,
   "id": "ae0bd0ef-312d-40e3-8478-1a28ae403557",
   "metadata": {},
   "outputs": [
    {
     "name": "stdout",
     "output_type": "stream",
     "text": [
      "55\n"
     ]
    }
   ],
   "source": [
    "print(f)"
   ]
  },
  {
   "cell_type": "code",
   "execution_count": null,
   "id": "3fe4e3f3-4711-494d-a84f-5670e0a4ecd0",
   "metadata": {},
   "outputs": [],
   "source": []
  }
 ],
 "metadata": {
  "kernelspec": {
   "display_name": "Python 3 (ipykernel)",
   "language": "python",
   "name": "python3"
  },
  "language_info": {
   "codemirror_mode": {
    "name": "ipython",
    "version": 3
   },
   "file_extension": ".py",
   "mimetype": "text/x-python",
   "name": "python",
   "nbconvert_exporter": "python",
   "pygments_lexer": "ipython3",
   "version": "3.12.1"
  }
 },
 "nbformat": 4,
 "nbformat_minor": 5
}
