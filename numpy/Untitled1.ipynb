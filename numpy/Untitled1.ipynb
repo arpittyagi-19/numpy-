{
 "cells": [
  {
   "cell_type": "code",
   "execution_count": 2,
   "id": "0f0419b1-29e2-452b-8352-3d01639f860d",
   "metadata": {},
   "outputs": [
    {
     "name": "stdout",
     "output_type": "stream",
     "text": [
      "[0.47306457 0.76081894 0.59747243 0.17366508]\n"
     ]
    }
   ],
   "source": [
    "import numpy as np\n",
    "var = np.random.rand(4)\n",
    "print(var)"
   ]
  },
  {
   "cell_type": "code",
   "execution_count": 3,
   "id": "49c123ff-d701-4fe0-9750-c1e82c5b4b20",
   "metadata": {},
   "outputs": [
    {
     "name": "stdout",
     "output_type": "stream",
     "text": [
      "[-1.15208161  1.17929473  1.22075641 -1.22012506 -0.05499308]\n"
     ]
    }
   ],
   "source": [
    "var1 = np.random.randn(5)\n",
    "print(var1)"
   ]
  },
  {
   "cell_type": "code",
   "execution_count": 4,
   "id": "43b7e9db-9707-44ba-9a94-53a5ec5f5c5e",
   "metadata": {},
   "outputs": [
    {
     "name": "stdout",
     "output_type": "stream",
     "text": [
      "[0.21612848 0.37733687 0.20090066 0.00845968]\n"
     ]
    }
   ],
   "source": [
    " var2 = np.random.ranf(4)\n",
    "print(var2)"
   ]
  },
  {
   "cell_type": "code",
   "execution_count": 5,
   "id": "e2781717-1a96-4980-b875-59abd059f5ed",
   "metadata": {},
   "outputs": [
    {
     "name": "stdout",
     "output_type": "stream",
     "text": [
      "[ 8  7 13 11 14]\n"
     ]
    }
   ],
   "source": [
    "var3 = np.random.randint(5,20,5)\n",
    "print(var3)"
   ]
  },
  {
   "cell_type": "code",
   "execution_count": null,
   "id": "28005ea1-dc12-4034-9858-3e33d98fb9e3",
   "metadata": {},
   "outputs": [],
   "source": []
  }
 ],
 "metadata": {
  "kernelspec": {
   "display_name": "Python 3 (ipykernel)",
   "language": "python",
   "name": "python3"
  },
  "language_info": {
   "codemirror_mode": {
    "name": "ipython",
    "version": 3
   },
   "file_extension": ".py",
   "mimetype": "text/x-python",
   "name": "python",
   "nbconvert_exporter": "python",
   "pygments_lexer": "ipython3",
   "version": "3.12.1"
  }
 },
 "nbformat": 4,
 "nbformat_minor": 5
}
