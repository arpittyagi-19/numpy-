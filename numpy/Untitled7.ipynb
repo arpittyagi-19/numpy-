{
 "cells": [
  {
   "cell_type": "code",
   "execution_count": 17,
   "id": "7985ad10-29e7-4f8c-b4ef-97410fe3a32d",
   "metadata": {},
   "outputs": [
    {
     "name": "stdout",
     "output_type": "stream",
     "text": [
      "[[[ 1  2]\n",
      "  [ 3  4]\n",
      "  [ 5  6]]\n",
      "\n",
      " [[ 7  8]\n",
      "  [ 9 10]\n",
      "  [11 12]]]\n",
      "9\n",
      "3\n"
     ]
    }
   ],
   "source": [
    "import numpy as np\n",
    "arr = np.array([1,2,3,4,5,6,7,8,9,10,11,12])\n",
    "x = arr.reshape(2,3,2)\n",
    "print(x)\n",
    "print(x[1,1,0])\n",
    "print(x.ndim) "
   ]
  },
  {
   "cell_type": "code",
   "execution_count": 25,
   "id": "8fff451c-6a6a-4e76-93f9-aa96802ab329",
   "metadata": {},
   "outputs": [
    {
     "name": "stdout",
     "output_type": "stream",
     "text": [
      "[[[1 2]\n",
      "  [6 7]]]\n",
      "3\n",
      "\n",
      "7\n"
     ]
    }
   ],
   "source": [
    "var2 = np.array([[[1,2],[6,7]]])\n",
    "print(var2)\n",
    "print(var2.ndim)\n",
    "print()\n",
    "print(var2[0,1,1])"
   ]
  },
  {
   "cell_type": "code",
   "execution_count": 37,
   "id": "67d4ec68-806e-4f0a-887a-0a16ede6e51d",
   "metadata": {},
   "outputs": [
    {
     "name": "stdout",
     "output_type": "stream",
     "text": [
      "[2 4 7 9]\n"
     ]
    }
   ],
   "source": [
    "var3 = np.array([1,2,3,4,5,7,8,9])\n",
    "print(var3[1::2])\n"
   ]
  },
  {
   "cell_type": "code",
   "execution_count": null,
   "id": "55f854de-81c4-40f2-8b66-7f5cdd62e32b",
   "metadata": {},
   "outputs": [],
   "source": []
  }
 ],
 "metadata": {
  "kernelspec": {
   "display_name": "Python 3 (ipykernel)",
   "language": "python",
   "name": "python3"
  },
  "language_info": {
   "codemirror_mode": {
    "name": "ipython",
    "version": 3
   },
   "file_extension": ".py",
   "mimetype": "text/x-python",
   "name": "python",
   "nbconvert_exporter": "python",
   "pygments_lexer": "ipython3",
   "version": "3.12.1"
  }
 },
 "nbformat": 4,
 "nbformat_minor": 5
}
