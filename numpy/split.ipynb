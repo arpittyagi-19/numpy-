{
 "cells": [
  {
   "cell_type": "code",
   "execution_count": 24,
   "id": "6436461e-0022-4cf4-b931-1ca5640b108e",
   "metadata": {},
   "outputs": [
    {
     "name": "stdout",
     "output_type": "stream",
     "text": [
      "[array([[1, 2]]), array([[3, 4]]), array([], shape=(0, 2), dtype=int32)]\n"
     ]
    }
   ],
   "source": [
    "import numpy as np\n",
    "var1 = ([[1,2],[3,4]])\n",
    "var2 = ([[5,6],[7,8]])\n",
    "arr = np.concatenate((var1,var2), axis = 1)\n",
    "arr2 = np.array_split(var1,3, axis=0)\n",
    "print(arr2)"
   ]
  },
  {
   "cell_type": "code",
   "execution_count": 20,
   "id": "a3dfecb8-cb43-4716-85d2-1da616bf9245",
   "metadata": {},
   "outputs": [
    {
     "name": "stdout",
     "output_type": "stream",
     "text": [
      "[1 2 3 4 5 6 7 8]\n",
      "[array([1, 2, 3]), array([4, 5, 6]), array([7, 8])]\n",
      "1\n",
      "[1 2 3]\n"
     ]
    }
   ],
   "source": [
    "var3 = np.array([1,2,3,4,5,6,7,8])\n",
    "print(var3)\n",
    "arr1 = np.array_split(var3, 3)\n",
    "print(arr1)\n",
    "print(var3[0])\n",
    "print(arr1[0])"
   ]
  },
  {
   "cell_type": "code",
   "execution_count": null,
   "id": "4e23fb41-789a-49c1-80cb-7e70613b1dd9",
   "metadata": {},
   "outputs": [],
   "source": []
  }
 ],
 "metadata": {
  "kernelspec": {
   "display_name": "Python 3 (ipykernel)",
   "language": "python",
   "name": "python3"
  },
  "language_info": {
   "codemirror_mode": {
    "name": "ipython",
    "version": 3
   },
   "file_extension": ".py",
   "mimetype": "text/x-python",
   "name": "python",
   "nbconvert_exporter": "python",
   "pygments_lexer": "ipython3",
   "version": "3.12.1"
  }
 },
 "nbformat": 4,
 "nbformat_minor": 5
}
