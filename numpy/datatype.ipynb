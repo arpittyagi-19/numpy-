{
 "cells": [
  {
   "cell_type": "code",
   "execution_count": 5,
   "id": "35f1355b-0d9f-4491-9e6a-c1e8f6919636",
   "metadata": {},
   "outputs": [
    {
     "name": "stdout",
     "output_type": "stream",
     "text": [
      "new aaray is given as=[1. 2. 3. 4.]\n"
     ]
    }
   ],
   "source": [
    "import numpy as np\n",
    "x = np.array([1,2,3,4])\n",
    "y = np.float32(x)\n",
    "print(f\"new aaray is given as={y}\")"
   ]
  },
  {
   "cell_type": "code",
   "execution_count": null,
   "id": "0ed4cd2d-dca0-4617-a10e-066e57011174",
   "metadata": {},
   "outputs": [],
   "source": []
  }
 ],
 "metadata": {
  "kernelspec": {
   "display_name": "Python 3 (ipykernel)",
   "language": "python",
   "name": "python3"
  },
  "language_info": {
   "codemirror_mode": {
    "name": "ipython",
    "version": 3
   },
   "file_extension": ".py",
   "mimetype": "text/x-python",
   "name": "python",
   "nbconvert_exporter": "python",
   "pygments_lexer": "ipython3",
   "version": "3.12.1"
  }
 },
 "nbformat": 4,
 "nbformat_minor": 5
}
