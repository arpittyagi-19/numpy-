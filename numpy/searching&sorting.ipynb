{
 "cells": [
  {
   "cell_type": "code",
   "execution_count": 7,
   "id": "8425c98b-2329-467d-88e1-75cbb1e9060d",
   "metadata": {},
   "outputs": [
    {
     "name": "stdout",
     "output_type": "stream",
     "text": [
      "(array([1, 3, 5, 6, 7, 8], dtype=int64),)\n"
     ]
    }
   ],
   "source": [
    "import numpy as np\n",
    "var  = np.array([1,2,3,4,5,6,2,8,2])\n",
    "x = np.where(var%2 == 0)\n",
    "print(x)"
   ]
  },
  {
   "cell_type": "code",
   "execution_count": 16,
   "id": "77eca464-373d-4d4b-a16a-e5a43b6916de",
   "metadata": {},
   "outputs": [
    {
     "name": "stdout",
     "output_type": "stream",
     "text": [
      "[1 1 2 2 2 2 3 3 3 3 4 5 5 7 8]\n",
      "13\n"
     ]
    }
   ],
   "source": [
    "var1  = np.array([1,2,3,4,5,2,8,2,1,3,5,7,2,3,3])\n",
    "arr = np.sort(var1, axis=0)\n",
    "print(arr)\n",
    "x1 = np.searchsorted(arr,6 )\n",
    "print(x1)"
   ]
  },
  {
   "cell_type": "code",
   "execution_count": 23,
   "id": "8986a41a-4b48-4808-98b6-2b6bef808e72",
   "metadata": {},
   "outputs": [
    {
     "name": "stdout",
     "output_type": "stream",
     "text": [
      "['s' 'r' 'c' 'g']\n"
     ]
    }
   ],
   "source": [
    "var3 = np.array(['s','r','a','c','g','a'])\n",
    "f= []\n",
    "for i in var3:\n",
    "    if i == 'a':\n",
    "        f.append(False)\n",
    "    else:\n",
    "        f.append(True)\n",
    "\n",
    "new = var3[f]\n",
    "print(new)"
   ]
  },
  {
   "cell_type": "code",
   "execution_count": null,
   "id": "8f2f8e22-c6ee-45ca-b19c-b70e9d6b1111",
   "metadata": {},
   "outputs": [],
   "source": []
  }
 ],
 "metadata": {
  "kernelspec": {
   "display_name": "Python 3 (ipykernel)",
   "language": "python",
   "name": "python3"
  },
  "language_info": {
   "codemirror_mode": {
    "name": "ipython",
    "version": 3
   },
   "file_extension": ".py",
   "mimetype": "text/x-python",
   "name": "python",
   "nbconvert_exporter": "python",
   "pygments_lexer": "ipython3",
   "version": "3.12.1"
  }
 },
 "nbformat": 4,
 "nbformat_minor": 5
}
